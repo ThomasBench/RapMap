{
 "cells": [
  {
   "cell_type": "code",
   "execution_count": 1,
   "metadata": {},
   "outputs": [
    {
     "name": "stdout",
     "output_type": "stream",
     "text": [
      "[33, 82, 93, 38, 42, 47, 260, 13, 56, 53, 22, 43, 207, 100, 49, 33, 38, 87, 35, 143, 28, 4, 76, 159, 78, 269, 36, 228, 283, 64, 40, 36, 42, 54, 64, 124, 95, 33, 34, 35, 25, 4, 162, 48, 48, 50, 1, 51, 30, 29, 47, 97, 104, 102, 41, 50, 70, 283, 44, 47, 45, 33, 51, 35, 42, 69, 155, 67, 3, 122, 72, 50, 33, 14, 55, 37, 26, 57, 62, 107, 6, 108, 20, 21, 83, 123, 44, 100, 24, 67, 43, 170, 68, 296, 99, 22, 99, 28, 29, 146, 265, 122, 10, 2, 30, 81, 39, 4, 174, 3, 22, 33, 84, 74, 4, 37, 60, 14, 18, 31, 15, 135, 70, 74, 33, 13, 55, 51, 62, 90, 7, 100, 39, 15, 98, 13, 43, 20, 19, 39, 33, 129, 65, 220, 26, 101, 143, 128, 48, 207, 15, 45, 247, 27, 57, 79, 92, 146, 15, 115, 124, 4, 21, 69, 55, 35, 77, 76, 98, 332, 59, 55, 66, 40, 69, 51, 31, 198, 60, 36, 54, 54, 26, 66, 31, 134, 221, 103, 42, 16, 9, 574, 177, 37, 76, 101, 135, 90, 40, 21, 27, 53, 75, 163, 41, 131, 27, 86, 72, 45, 65, 25, 44, 6, 82, 63, 144, 20, 54, 14, 17, 359, 152, 145, 106, 139, 229, 32, 38, 35, 141, 60, 8, 90, 32, 13, 83, 61, 79, 46, 137, 17, 101, 425, 32, 48, 16, 23, 86, 62, 114, 33, 49, 13, 38, 39, 51, 146, 223, 63, 101, 20, 175, 26, 21, 156, 224, 51, 71, 88, 25, 54, 296, 71, 123, 74, 2, 2, 32, 150, 150, 41, 53, 34, 20, 43, 189, 15, 68, 12, 31, 21, 30, 111, 5, 46, 113, 46, 81, 186, 18, 9, 40, 92, 212, 80, 71, 101, 59, 105, 39, 1, 154, 224, 92, 75, 4, 54, 53, 55, 51, 18, 164, 86, 24, 148, 17, 106, 14, 33, 32, 107, 71, 32, 19, 48, 80, 16, 3, 97, 139, 146, 67, 83, 76, 227, 60, 309, 100, 11, 62, 48, 89, 89, 144, 88, 98, 55, 6, 42, 55, 24, 122, 91, 26, 12, 84, 42, 219, 221, 37, 29, 174, 90, 57, 51, 45, 38, 15, 192, 20, 59, 84, 48, 17, 83, 83, 87, 28, 65, 137, 69, 25, 60, 203, 69, 12, 51, 97, 96, 170, 160, 75, 16, 354, 17, 166, 30, 15, 84, 1, 13, 20, 76, 94, 2, 3, 82, 72, 32, 41, 69, 17, 179, 72, 26, 30, 2, 60, 40, 18, 22, 5, 67, 2, 25, 63, 159, 58, 63, 52, 10, 111, 44, 19, 73, 46, 35, 37, 62]\n"
     ]
    }
   ],
   "source": [
    "from artist import Artist, Song\n",
    "import pickle\n",
    "from glob import glob\n",
    "from pathlib import Path\n",
    "import os\n",
    "from pyspark import SparkContext\n",
    "from collections import Counter, defaultdict\n",
    "\n",
    "sc = SparkContext()\n",
    "data_folder = \"./data\"\n",
    "artists = []\n",
    "for file in glob(data_folder + \"/*.pickle\"):\n",
    "    with open(file, \"rb\") as f:\n",
    "        artist = pickle.load(f)\n",
    "    if len(artist.songs) > 0 :\n",
    "        artists.append(artist)\n",
    "    else:\n",
    "        os.remove(file)\n",
    "\n",
    "# orel = []\n",
    "# for writer in writers:\n",
    "#     if 'Orel' in writer.name:\n",
    "#         orel.append(writer)\n",
    "# orel\n",
    "print([len(art.songs )for art in artists])"
   ]
  },
  {
   "cell_type": "code",
   "execution_count": 2,
   "metadata": {},
   "outputs": [
    {
     "data": {
      "text/plain": [
       "966"
      ]
     },
     "execution_count": 2,
     "metadata": {},
     "output_type": "execute_result"
    }
   ],
   "source": [
    "songs = set()\n",
    "all_writers = defaultdict(int)\n",
    "for artist in artists:\n",
    "    songs.update([s for s in  artist.songs.values() if len(s.writers) > 1])\n",
    "for song in songs:\n",
    "    writers = song.writers\n",
    "    for writer in writers:\n",
    "        all_writers[writer] += 1\n",
    "\n",
    "# writers = sorted(list(all_writers), key= lambda x: x.name)\n",
    "# writers = [artist for artist,count in list(Counter(writers).items()) if count > 1]\n",
    "all_writers = {i:k for i,k in all_writers.items() if k >2}\n",
    "all_writers = list(sorted(list(all_writers), key= lambda x: x.name))\n",
    "len(all_writers)"
   ]
  },
  {
   "cell_type": "code",
   "execution_count": 3,
   "metadata": {},
   "outputs": [],
   "source": [
    "from typing import Tuple\n",
    "import requests as re \n",
    "from bs4 import BeautifulSoup\n",
    "def get_name_from_link(link: str) -> Tuple[str,str]:\n",
    "    content = re.get(link).text\n",
    "    return (BeautifulSoup(content).find(\"h1\").text.strip().replace(\"\\n\", \"\").split(\"            \")[0].split(\"(\")[0].strip() ,link)\n",
    "# print(get_name_from_link(all_writers[868].link), all_writers[868].name)"
   ]
  },
  {
   "cell_type": "code",
   "execution_count": 4,
   "metadata": {},
   "outputs": [],
   "source": [
    "# artists[artists.index(Artist(\"https://genius.com/artists/Mb\", \"MB\"))]"
   ]
  },
  {
   "cell_type": "code",
   "execution_count": 5,
   "metadata": {},
   "outputs": [],
   "source": [
    "\n",
    "artist_list = sc.parallelize([w.link for w in all_writers]).map(get_name_from_link).collect()"
   ]
  },
  {
   "cell_type": "code",
   "execution_count": 6,
   "metadata": {},
   "outputs": [],
   "source": [
    "all_writers = [Artist(link,name) for name, link in artist_list]\n",
    "link_to_actual_artist = {artist.link:artist.name for artist in all_writers}\n",
    "# link_to_actual_artist[\"https://genius.com/artists/Mb\"] = \"MB\"\n",
    "# link_to_actual_artist[\"https://genius.com/artists/Solo\"] = \"Solo\"\n",
    "# link_to_actual_artist[\"https://genius.com/artists/Seven\"] = \"Seven\"\n",
    "# # link_to_actual_artist.items()"
   ]
  },
  {
   "cell_type": "code",
   "execution_count": 7,
   "metadata": {},
   "outputs": [],
   "source": [
    "from collections import defaultdict\n",
    "\n",
    "# writers_dict  = {writer.name:defaultdict(lambda : defaultdict(int, weight=0)) for writer in all_writers}\n",
    "writers_dict  = {writer.name:defaultdict(list) for writer in all_writers}\n",
    "# print(writers_dict)\n",
    "for song in songs: \n",
    "    writers = song.writers\n",
    "    for writer in writers:\n",
    "        if writer in all_writers:\n",
    "            writer_name = link_to_actual_artist[writer.link]\n",
    "            for other_writer in writers:\n",
    "                if other_writer in all_writers:\n",
    "                    other_name = link_to_actual_artist[other_writer.link]\n",
    "                    if writer_name != other_name:\n",
    "                        writers_dict[writer_name][other_name].append(song.name)\n",
    "                        # writers_dict[writer_name][other_name][\"weight\"] +=  1\n",
    "# writers_dict"
   ]
  },
  {
   "cell_type": "code",
   "execution_count": 8,
   "metadata": {},
   "outputs": [
    {
     "data": {
      "text/plain": [
       "dict_keys(['Ol Zico', 'Jarod', \"Limsa d'Aulnay\", 'Paco', \"Al'Tarba\", 'Tragik', 'Grödash', 'JP Manova', 'Taïro', 'Geule Blansh', 'Iron Sy', '10vers', 'Furax Barbarossa', 'Jeff Le Nerf', 'Original Tonio', 'Davodka', 'Nakk Mendosa', 'Loko', 'Katana', \"L'indis\", 'Reeno', 'Brack', 'Ritzo', 'Char', 'Aketo', 'Sidi Omar', 'Mokless', 'Sëar Lui-Même', 'Busta Flex', 'Seyté', 'Zek', 'Fonik', 'Zesau', 'Joe Lucazz', \"L'Affreux Jojo\", 'Lavokato', 'Koma', 'Senamo', 'Ades', 'Hugo TSR', 'Nekfeu', 'Guizmo', 'TonyToxik', 'Cenza', 'Deen Burbigo', 'Melan', 'Nefaste', 'Mani Deïz', 'Lucio Bukowski', 'Pejmaxx', 'Titan Mc Dyess', 'Wira', 'Nasme', 'Lyricson', 'Alibi Montana', 'Dooz Kawa', 'Kacem Wapalek', 'Titan', 'Ixzo', 'Starline', 'Lacraps', 'Hyacinthe', 'Nusky', 'Demi Portion', 'Scylla', 'Monotof', \"L'Hexaler\", 'Sprinter', \"Youssef Swatt's\", 'A2H', 'OrelSan', 'Nessbeal', 'Alkpote', 'Seth Gueko', '3010', 'Noss', 'Deadi', 'R.E.D.K.', 'Faf Larage', \"L'amir'Al\", 'Relo', 'Boss One', 'USKY', 'Zoxea', 'Rob-D', '25G', 'Kenyon', 'Laylow', 'Grems', 'Daddy Mory', 'Souffrance', 'Disiz', 'Volts Face', 'Green Money', 'Vîrus'])"
      ]
     },
     "execution_count": 8,
     "metadata": {},
     "output_type": "execute_result"
    }
   ],
   "source": [
    "import networkx as nx\n",
    "import pyvis\n",
    "# net.nodes\n",
    "def get_number_of_feat(dico, artist_name,artist_bool):\n",
    "    if artist_bool:\n",
    "        return len(dico[artist_name])\n",
    "    else:\n",
    "        all_feats=  dico[artist_name]\n",
    "        morceaux = set()\n",
    "        for artist in all_feats:\n",
    "            feat_artist = all_feats[artist]\n",
    "            for morceau in feat_artist:\n",
    "                morceaux.add(morceau)\n",
    "        return len(morceaux)\n",
    "gros_feateurs = sorted([(artist, get_number_of_feat(writers_dict,artist,False)) for artist in writers_dict], key= lambda x: x[1], reverse= True)[:50]\n",
    "gros_feateurs = sorted([(artist, get_number_of_feat(writers_dict,artist,True)) for artist in writers_dict], key= lambda x: x[1], reverse= True)[:50]\n",
    "gros_feateurs\n",
    "# network = nx.Graph\n",
    "# for artist in \n",
    "writers_dict[\"Swift Guad\"].keys()"
   ]
  },
  {
   "cell_type": "code",
   "execution_count": 9,
   "metadata": {},
   "outputs": [],
   "source": [
    "from copy import deepcopy\n",
    "import json\n",
    "network = nx.Graph()\n",
    "new_dico= deepcopy(writers_dict)\n",
    "rappeurs_vus = set()\n",
    "for artist_name in new_dico:\n",
    "    network.add_node(artist_name,size = len(new_dico[artist_name]))\n",
    "\n",
    "\n",
    "for artist_name in new_dico:\n",
    "    for other_artist in new_dico[artist_name]:\n",
    "        network.add_edge(artist_name,other_artist, weight = len(new_dico[artist_name][other_artist]))\n",
    "connected_components = list(network.subgraph(c).copy() for c in nx.connected_components(network))\n",
    "net1, net2 = (connected_components[:2])\n",
    "with open(\"network.JSON\", \"w\", encoding= 'utf-8') as f:\n",
    "    # f.write(str(nx.cytoscape_data(net1)))\n",
    "    json.dump(nx.cytoscape_data(net1), f)"
   ]
  },
  {
   "cell_type": "code",
   "execution_count": 28,
   "metadata": {},
   "outputs": [
    {
     "data": {
      "text/plain": [
       "{'size': 18, 'group': [12]}"
      ]
     },
     "execution_count": 28,
     "metadata": {},
     "output_type": "execute_result"
    }
   ],
   "source": [
    "from cdlib import algorithms,viz\n",
    "\n",
    "communities = algorithms.greedy_modularity(net1, weight= \"weight\")\n",
    "\n",
    "experimental_net = nx.set_node_attributes(net1,communities.to_node_community_map(), \"group\")\n",
    "net1.nodes[\"Bigflo\"]\n",
    "    # communities.to_node_community_map()\n",
    "# pos = nx.spring_layout(net1)\n",
    "# viz.plot_network_clusters(net1, communities, pos)"
   ]
  },
  {
   "cell_type": "code",
   "execution_count": 15,
   "metadata": {},
   "outputs": [
    {
     "data": {
      "text/plain": [
       "<networkx.classes.graph.Graph at 0x1c88fde6820>"
      ]
     },
     "execution_count": 15,
     "metadata": {},
     "output_type": "execute_result"
    }
   ],
   "source": [
    "communities.graph"
   ]
  }
 ],
 "metadata": {
  "interpreter": {
   "hash": "2c08fb7d0681ab80e3191df3cdd3d9ae56e033f792b7fa01572cc6446116ecae"
  },
  "kernelspec": {
   "display_name": "Python 3.8.12 ('p38')",
   "language": "python",
   "name": "python3"
  },
  "language_info": {
   "codemirror_mode": {
    "name": "ipython",
    "version": 3
   },
   "file_extension": ".py",
   "mimetype": "text/x-python",
   "name": "python",
   "nbconvert_exporter": "python",
   "pygments_lexer": "ipython3",
   "version": "3.8.12"
  },
  "orig_nbformat": 4
 },
 "nbformat": 4,
 "nbformat_minor": 2
}
