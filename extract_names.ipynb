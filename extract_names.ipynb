{
 "cells": [
  {
   "cell_type": "code",
   "execution_count": 15,
   "metadata": {},
   "outputs": [],
   "source": [
    "import requests as re\n",
    "from bs4 import BeautifulSoup\n",
    "import unicodedata\n",
    "\n",
    "def remove_accents(input_str):\n",
    "    nfkd_form = unicodedata.normalize('NFKD', input_str)\n",
    "    return u\"\".join([c for c in nfkd_form if not unicodedata.combining(c)])"
   ]
  },
  {
   "cell_type": "code",
   "execution_count": 21,
   "metadata": {},
   "outputs": [],
   "source": [
    "link1 = \"https://fr.wikipedia.org/w/index.php?title=Cat%C3%A9gorie:Rappeur_fran%C3%A7ais&pagefrom=Mokob%C3%A9#mw-pages\"\n",
    "rappeurs = [a.text for a in BeautifulSoup(re.get(link1).text).find(\"div\", class_ = \"mw-category\").findAll(\"a\")]\n",
    "rappeurs = [r.split(\"(\")[0].strip() for r in rappeurs]\n",
    "rappeurs = [(remove_accents(r.replace(\"'\", '').replace(\" \", \"-\")),r ) for r in rappeurs]\n",
    "with open(\"rapeurs2.txt\", \"w\", encoding= \"utf-8\") as f:\n",
    "    f.write(str(rappeurs))\n"
   ]
  }
 ],
 "metadata": {
  "interpreter": {
   "hash": "2c08fb7d0681ab80e3191df3cdd3d9ae56e033f792b7fa01572cc6446116ecae"
  },
  "kernelspec": {
   "display_name": "Python 3.8.12 ('p38')",
   "language": "python",
   "name": "python3"
  },
  "language_info": {
   "codemirror_mode": {
    "name": "ipython",
    "version": 3
   },
   "file_extension": ".py",
   "mimetype": "text/x-python",
   "name": "python",
   "nbconvert_exporter": "python",
   "pygments_lexer": "ipython3",
   "version": "3.8.12"
  },
  "orig_nbformat": 4
 },
 "nbformat": 4,
 "nbformat_minor": 2
}
