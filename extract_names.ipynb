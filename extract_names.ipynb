{
 "cells": [
  {
   "cell_type": "code",
   "execution_count": 1,
   "metadata": {},
   "outputs": [],
   "source": [
    "import requests as re\n",
    "from bs4 import BeautifulSoup\n",
    "import unicodedata\n",
    "from artist import Artist\n",
    "def remove_accents(input_str):\n",
    "    nfkd_form = unicodedata.normalize('NFKD', input_str)\n",
    "    return u\"\".join([c for c in nfkd_form if not unicodedata.combining(c)])"
   ]
  },
  {
   "cell_type": "code",
   "execution_count": 21,
   "metadata": {},
   "outputs": [],
   "source": [
    "# For the wikipedia data\n",
    "\n",
    "link1 = \"https://fr.wikipedia.org/w/index.php?title=Cat%C3%A9gorie:Rappeur_fran%C3%A7ais&pagefrom=Mokob%C3%A9#mw-pages\"\n",
    "rappeurs = [a.text for a in BeautifulSoup(re.get(link1).text).find(\"div\", class_ = \"mw-category\").findAll(\"a\")]\n",
    "rappeurs = [r.split(\"(\")[0].strip() for r in rappeurs]\n",
    "rappeurs = [(remove_accents(r.replace(\"'\", '').replace(\" \", \"-\")),r ) for r in rappeurs]\n",
    "with open(\"rapeurs2.txt\", \"w\", encoding= \"utf-8\") as f:\n",
    "    f.write(str(rappeurs))\n"
   ]
  },
  {
   "cell_type": "code",
   "execution_count": 11,
   "metadata": {},
   "outputs": [],
   "source": [
    "# For the DLBEDS data\n",
    "\n",
    "path = \"./DLBEDS.txt\"\n",
    "with open(path, \"r\", encoding= \"utf-8\") as f:\n",
    "    data = f.readlines()\n",
    "all_data = set()\n",
    "for line in data:\n",
    "    all_data.update(line.split(\"\\t\"))\n",
    "all_data.remove(\"\")\n",
    "all_data.remove(\"\\n\")\n",
    "rappeurs=  [(remove_accents(r.replace(\"'\", '').replace(\" \", \"-\")),r ) for r in all_data]\n",
    "with open(\"rapeurs3.txt\", \"w\", encoding= \"utf-8\") as f:\n",
    "    f.write(str(rappeurs))\n",
    "\n"
   ]
  },
  {
   "cell_type": "code",
   "execution_count": 7,
   "metadata": {},
   "outputs": [
    {
     "name": "stdout",
     "output_type": "stream",
     "text": [
      "['1PLIKé140\\n', 'Ashe 22\\n', '#Bassem Braiki\\n', '#Bouga\\n', \"#Bram's\\n\", 'Brasco f\\n', 'captaine roshi\\n', 'Casseurs Flowters\\n', 'Chiens de paille\\n', 'Cyanure ATK\\n', '#Dawala\\n', 'Djadja and dinaz\\n', 'Dinor RDT\\n', 'EJM rappeur\\n', '#Esdras\\n', '#Esso Luxueux \\n', '#Faouzi Tarkhani\\n', '#Faster Jay\\n', 'Alliance Ethnik\\n', '#Fhemann\\n', '#Franck II Louise\\n', 'frenetik bel\\n', '#Félix Jousserand\\n', '#Hamed Daye\\n', '#Hamé\\n', '#IZM\\n', \"J'L'Tismé\\n\", '#Jean-Pascal Zadi\\n', '#Jerôme Ebella\\n', '#K-mel\\n', '#K-Rhyme Le Roi\\n', '#Krismenn\\n', 'Lous and The Yakuza\\n', '#Lucien Papalu\\n', '#Marc Nammour\\n', '#Martial Tricoche\\n', '#Medouze\\n', '#Menzo\\n', \"Neg'Marrons\\n\", '#Michaël Youn\\n', '#Moken\\n', '#Narcisse\\n', '#Neg Lyrical\\n', '#Nikus Pokus\\n', '#Ormaz\\n', '#Pilote le Hot\\n', '#Pro176\\n', '#Pyroman\\n', 'Ratu Fra\\n', '#Samuel Cueto\\n', '#Smartzee\\n', '#Solo\\n', '#Styck\\n', '#Sulee B Wax\\n', '#Sylvain Hagopian\\n', '#Tita Delarue\\n', '#Yosoji\\n', '#Zefor\\n']\n"
     ]
    }
   ],
   "source": [
    "# For the Missing data\n",
    "path = \"./missing.txt\"\n",
    "with open(path, \"r\", encoding= \"utf-8\") as f:\n",
    "    data = f.readlines()\n",
    "all_data = []\n",
    "for line in data:\n",
    "    if line[0] != \"#\":\n",
    "        all_data.append(line[:-1])\n",
    "rappeurs = [(remove_accents(r.replace(\"'\", '').replace(\" \", \"-\")),r ) for r in all_data]\n",
    "with open(\"rapeurs4.txt\", \"w\", encoding= \"utf-8\") as f:\n",
    "    f.write(str(rappeurs))\n"
   ]
  },
  {
   "cell_type": "code",
   "execution_count": 3,
   "metadata": {},
   "outputs": [
    {
     "data": {
      "application/vnd.jupyter.widget-view+json": {
       "model_id": "7f731e301626460d8f9577d22f49f5fc",
       "version_major": 2,
       "version_minor": 0
      },
      "text/plain": [
       "HBox(children=(FloatProgress(value=0.0, max=2.0), HTML(value='')))"
      ]
     },
     "metadata": {},
     "output_type": "display_data"
    },
    {
     "name": "stderr",
     "output_type": "stream",
     "text": [
      "c:\\Users\\bench\\Documents\\EPFL\\Master\\MA4\\RapMap\\artist.py:155: GuessedAtParserWarning: No parser was explicitly specified, so I'm using the best available HTML parser for this system (\"lxml\"). This usually isn't a problem, but if you run this code on another system, or in a different virtual environment, it may use a different parser and behave differently.\n",
      "\n",
      "The code that caused this warning is on line 155 of the file c:\\Users\\bench\\Documents\\EPFL\\Master\\MA4\\RapMap\\artist.py. To get rid of this warning, pass the additional argument 'features=\"lxml\"' to the BeautifulSoup constructor.\n",
      "\n",
      "  soup = BeautifulSoup(content)\n",
      "c:\\Users\\bench\\Documents\\EPFL\\Master\\MA4\\RapMap\\artist.py:118: GuessedAtParserWarning: No parser was explicitly specified, so I'm using the best available HTML parser for this system (\"lxml\"). This usually isn't a problem, but if you run this code on another system, or in a different virtual environment, it may use a different parser and behave differently.\n",
      "\n",
      "The code that caused this warning is on line 118 of the file c:\\Users\\bench\\Documents\\EPFL\\Master\\MA4\\RapMap\\artist.py. To get rid of this warning, pass the additional argument 'features=\"lxml\"' to the BeautifulSoup constructor.\n",
      "\n",
      "  filtered_content = BeautifulSoup(content).findAll(\n"
     ]
    },
    {
     "name": "stdout",
     "output_type": "stream",
     "text": [
      "\n"
     ]
    }
   ],
   "source": [
    "# One to one corrections\n",
    "\n",
    "art = Artist(\"https://genius.com/artists/Koma-fra\",\"Koma\" )\n",
    "art.update_songs()\n",
    "art.save()"
   ]
  }
 ],
 "metadata": {
  "interpreter": {
   "hash": "2c08fb7d0681ab80e3191df3cdd3d9ae56e033f792b7fa01572cc6446116ecae"
  },
  "kernelspec": {
   "display_name": "Python 3.8.12 ('p38')",
   "language": "python",
   "name": "python3"
  },
  "language_info": {
   "codemirror_mode": {
    "name": "ipython",
    "version": 3
   },
   "file_extension": ".py",
   "mimetype": "text/x-python",
   "name": "python",
   "nbconvert_exporter": "python",
   "pygments_lexer": "ipython3",
   "version": "3.8.12"
  },
  "orig_nbformat": 4
 },
 "nbformat": 4,
 "nbformat_minor": 2
}
